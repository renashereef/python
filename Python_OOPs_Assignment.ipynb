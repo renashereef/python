{
  "nbformat": 4,
  "nbformat_minor": 0,
  "metadata": {
    "colab": {
      "provenance": []
    },
    "kernelspec": {
      "name": "python3",
      "display_name": "Python 3"
    },
    "language_info": {
      "name": "python"
    }
  },
  "cells": [
    {
      "cell_type": "markdown",
      "source": [
        "# Python OOPs Theoretical Questions with Answers\n",
        "\n",
        "# 1. What is Object-Oriented Programming (OOP)?\n",
        "Object-Oriented Programming is a programming paradigm based on the concept of objects, which contain both data and methods. It emphasizes reusability, scalability, and modularity through features like encapsulation, inheritance, and polymorphism.\n",
        "\n",
        "# 2. What is a class in OOP?\n",
        "A class is a blueprint or template for creating objects. It defines attributes and behaviors that the created objects (instances) will have.\n",
        "\n",
        "# 3. What is an object in OOP?\n",
        "An object is an instance of a class. It is a self-contained unit with its own attributes and methods defined by its class.\n",
        "\n",
        "# 4. What is the difference between abstraction and encapsulation?\n",
        "- Abstraction hides complexity by showing only essential features.\n",
        "- Encapsulation hides internal state by bundling data and methods that operate on the data.\n",
        "\n",
        "# 5. What are dunder methods in Python?\n",
        "Dunder (double underscore) methods are special methods with names like `__init__`, `__str__`, `__add__`, etc. They are used to define the behavior of objects for built-in Python operations.\n",
        "\n",
        "# 6. Explain the concept of inheritance in OOP.\n",
        "Inheritance allows one class (child) to inherit attributes and methods from another class (parent). It supports reusability and method overriding.\n",
        "\n",
        "# 7. What is polymorphism in OOP?\n",
        "Polymorphism means having many forms. It allows the same interface to be used for different data types or classes, enabling method overriding and overloading.\n",
        "\n",
        "# 8. How is encapsulation achieved in Python?\n",
        "Encapsulation is achieved using private (`__variable`) and protected (`_variable`) access modifiers and getter/setter methods to control access.\n",
        "\n",
        "# 9. What is a constructor in Python?\n",
        "A constructor is a special method called `__init__` that gets called when a new object is created. It is used to initialize attributes.\n",
        "\n",
        "# 10. What are class and static methods in Python?\n",
        "- Class methods use the `@classmethod` decorator and take `cls` as the first parameter. They access class variables.\n",
        "- Static methods use the `@staticmethod` decorator and don’t access class or instance variables.\n",
        "\n",
        "# 11. What is method overloading in Python?\n",
        "Python does not support traditional method overloading. However, it can be mimicked using default arguments or `*args`/`**kwargs`.\n",
        "\n",
        "# 12. What is method overriding in OOP?\n",
        "Method overriding occurs when a subclass provides a specific implementation of a method that is already defined in its parent class.\n",
        "\n",
        "# 13. What is a property decorator in Python?\n",
        "The `@property` decorator is used to define a method as a property. It allows accessing methods like attributes.\n",
        "\n",
        "# 14. Why is polymorphism important in OOP?\n",
        "Polymorphism allows for flexible and reusable code. It lets different classes be treated through a common interface, improving scalability.\n",
        "\n",
        "# 15. What is an abstract class in Python?\n",
        "An abstract class cannot be instantiated and may have abstract methods. It is created using the `abc` module and serves as a blueprint for subclasses.\n",
        "\n",
        "# 16. What are the advantages of OOP?\n",
        "- Modularity\n",
        "- Code reusability\n",
        "- Scalability\n",
        "- Data hiding\n",
        "- Ease of maintenance\n",
        "\n",
        "# 17. What is the difference between a class variable and an instance variable?\n",
        "- Class variable: Shared among all instances, defined at the class level.\n",
        "- Instance variable: Unique to each instance, defined in the constructor or instance methods.\n",
        "\n",
        "# 18. What is multiple inheritance in Python?\n",
        "Multiple inheritance is when a class inherits from more than one parent class. Python supports this directly but requires careful handling of conflicts.\n",
        "\n",
        "# 19. Explain the purpose of `__str__` and `__repr__` methods in Python.\n",
        "- `__str__`: Used to return a readable string representation of an object, used by `print()`.\n",
        "- `__repr__`: Returns an unambiguous string representation for developers/debugging.\n",
        "\n",
        "# 20. What is the significance of the `super()` function in Python?\n",
        "`super()` is used to call methods from the parent class, often used in constructors to initialize inherited attributes.\n",
        "\n",
        "# 21. What is the significance of the `__del__` method in Python?\n",
        "`__del__` is a destructor method that gets called when an object is about to be destroyed. It is used for cleanup.\n",
        "\n",
        "# 22. What is the difference between @staticmethod and @classmethod in Python?\n",
        "- `@staticmethod`: Doesn’t take `self` or `cls`. Used for utility functions.\n",
        "- `@classmethod`: Takes `cls` and can modify class state.\n",
        "\n",
        "# 23. How does polymorphism work in Python with inheritance?\n",
        "Polymorphism allows child classes to provide different implementations of the same method defined in the parent class, enabling runtime method selection.\n",
        "\n",
        "# 24. What is method chaining in Python OOP?\n",
        "Method chaining is calling multiple methods on the same object in a single line by returning `self` from each method.\n",
        "\n",
        "# 25. What is the purpose of the `__call__` method in Python?\n",
        "The `__call__` method makes an object callable like a function. It allows an object to be used as if it were a function.\n"
      ],
      "metadata": {
        "id": "WIee-b4rCNxd"
      }
    },
    {
      "cell_type": "code",
      "source": [
        "# 1. Create a parent class Animal with a method speak() that prints a generic message. Create a child class Dog that overrides the speak() method to print \"Bark!\".\n",
        "class Animal:\n",
        "    def speak(self):\n",
        "        print(\"Animal speaks\")\n",
        "\n",
        "class Dog(Animal):\n",
        "    def speak(self):\n",
        "        print(\"Bark!\")"
      ],
      "metadata": {
        "id": "8MZt2N4RCj0V"
      },
      "execution_count": 2,
      "outputs": []
    },
    {
      "cell_type": "code",
      "source": [
        "# 2. Abstract class Shape with area(), derived classes Circle and Rectangle\n",
        "from abc import ABC, abstractmethod\n",
        "\n",
        "class Shape(ABC):\n",
        "    @abstractmethod\n",
        "    def area(self):\n",
        "        pass\n",
        "\n",
        "class Circle(Shape):\n",
        "    def __init__(self, radius):\n",
        "        self.radius = radius\n",
        "\n",
        "    def area(self):\n",
        "        return 3.14 * self.radius ** 2\n",
        "\n",
        "class Rectangle(Shape):\n",
        "    def __init__(self, width, height):\n",
        "        self.width = width\n",
        "        self.height = height\n",
        "\n",
        "    def area(self):\n",
        "        return self.width * self.height\n"
      ],
      "metadata": {
        "id": "SA_dV3kkCmJL"
      },
      "execution_count": 3,
      "outputs": []
    },
    {
      "cell_type": "code",
      "source": [
        "# 3. Multilevel Inheritance\n",
        "class Vehicle:\n",
        "    def __init__(self, type):\n",
        "        self.type = type\n",
        "\n",
        "class Car(Vehicle):\n",
        "    def __init__(self, type, brand):\n",
        "        super().__init__(type)\n",
        "        self.brand = brand\n",
        "\n",
        "class ElectricCar(Car):\n",
        "    def __init__(self, type, brand, battery):\n",
        "        super().__init__(type, brand)\n",
        "        self.battery = battery"
      ],
      "metadata": {
        "id": "hJqidYAcCqpD"
      },
      "execution_count": 4,
      "outputs": []
    },
    {
      "cell_type": "code",
      "source": [
        "# 4. Polymorphism using Bird, Sparrow, Penguin\n",
        "class Bird:\n",
        "    def fly(self):\n",
        "        print(\"Some birds can fly\")\n",
        "\n",
        "class Sparrow(Bird):\n",
        "    def fly(self):\n",
        "        print(\"Sparrow flies high\")\n",
        "\n",
        "class Penguin(Bird):\n",
        "    def fly(self):\n",
        "        print(\"Penguins cannot fly\")\n"
      ],
      "metadata": {
        "id": "rlg6VrXXCs5r"
      },
      "execution_count": 5,
      "outputs": []
    },
    {
      "cell_type": "code",
      "source": [
        "# 5. Encapsulation\n",
        "class BankAccount:\n",
        "    def __init__(self):\n",
        "        self.__balance = 0\n",
        "\n",
        "    def deposit(self, amount):\n",
        "        self.__balance += amount\n",
        "\n",
        "    def withdraw(self, amount):\n",
        "        if amount <= self.__balance:\n",
        "            self.__balance -= amount\n",
        "        else:\n",
        "            print(\"Insufficient balance\")\n",
        "\n",
        "    def get_balance(self):\n",
        "        return self.__balance\n"
      ],
      "metadata": {
        "id": "hDJgmqLuCvBc"
      },
      "execution_count": 6,
      "outputs": []
    },
    {
      "cell_type": "code",
      "source": [
        "# 6. Runtime Polymorphism\n",
        "class Instrument:\n",
        "    def play(self):\n",
        "        print(\"Playing instrument\")\n",
        "\n",
        "class Guitar(Instrument):\n",
        "    def play(self):\n",
        "        print(\"Strumming guitar\")\n",
        "\n",
        "class Piano(Instrument):\n",
        "    def play(self):\n",
        "        print(\"Playing piano\")\n"
      ],
      "metadata": {
        "id": "ZyyPJVs4CxM7"
      },
      "execution_count": 7,
      "outputs": []
    },
    {
      "cell_type": "code",
      "source": [
        "# 7. Class and Static Methods\n",
        "class MathOperations:\n",
        "    @classmethod\n",
        "    def add_numbers(cls, a, b):\n",
        "        return a + b\n",
        "\n",
        "    @staticmethod\n",
        "    def subtract_numbers(a, b):\n",
        "        return a - b\n"
      ],
      "metadata": {
        "id": "BXPykOZCC0wL"
      },
      "execution_count": 8,
      "outputs": []
    },
    {
      "cell_type": "code",
      "source": [
        "# 8. Class Method for Counting Instances\n",
        "class Person:\n",
        "    count = 0\n",
        "\n",
        "    def __init__(self):\n",
        "        Person.count += 1\n",
        "\n",
        "    @classmethod\n",
        "    def get_count(cls):\n",
        "        return cls.count"
      ],
      "metadata": {
        "id": "BXl06HjyC1bE"
      },
      "execution_count": 9,
      "outputs": []
    },
    {
      "cell_type": "code",
      "source": [
        "# 9. Fraction with __str__\n",
        "class Fraction:\n",
        "    def __init__(self, numerator, denominator):\n",
        "        self.numerator = numerator\n",
        "        self.denominator = denominator\n",
        "\n",
        "    def __str__(self):\n",
        "        return f\"{self.numerator}/{self.denominator}\""
      ],
      "metadata": {
        "id": "6ghP6qWRC3ic"
      },
      "execution_count": 10,
      "outputs": []
    },
    {
      "cell_type": "code",
      "source": [
        "# 10. Operator Overloading\n",
        "class Vector:\n",
        "    def __init__(self, x, y):\n",
        "        self.x = x\n",
        "        self.y = y\n",
        "\n",
        "    def __add__(self, other):\n",
        "        return Vector(self.x + other.x, self.y + other.y)\n",
        "\n",
        "    def __str__(self):\n",
        "        return f\"({self.x}, {self.y})\""
      ],
      "metadata": {
        "id": "7mE8_ysnC5U8"
      },
      "execution_count": 11,
      "outputs": []
    },
    {
      "cell_type": "code",
      "source": [
        "# 11. Person greet()\n",
        "class Person:\n",
        "    def __init__(self, name, age):\n",
        "        self.name = name\n",
        "        self.age = age\n",
        "\n",
        "    def greet(self):\n",
        "        print(f\"Hello, my name is {self.name} and I am {self.age} years old.\")"
      ],
      "metadata": {
        "id": "YubXPbjGC7Ys"
      },
      "execution_count": 12,
      "outputs": []
    },
    {
      "cell_type": "code",
      "source": [
        "# 12. Student average_grade()\n",
        "class Student:\n",
        "    def __init__(self, name, grades):\n",
        "        self.name = name\n",
        "        self.grades = grades\n",
        "\n",
        "    def average_grade(self):\n",
        "        return sum(self.grades) / len(self.grades)"
      ],
      "metadata": {
        "id": "0DmlaGaZC9Ml"
      },
      "execution_count": 13,
      "outputs": []
    },
    {
      "cell_type": "code",
      "source": [
        "# 13. Rectangle set_dimensions and area\n",
        "class Rectangle:\n",
        "    def set_dimensions(self, width, height):\n",
        "        self.width = width\n",
        "        self.height = height\n",
        "\n",
        "    def area(self):\n",
        "        return self.width * self.height"
      ],
      "metadata": {
        "id": "QIaZZ8bUC-9k"
      },
      "execution_count": 14,
      "outputs": []
    },
    {
      "cell_type": "code",
      "source": [
        "# 14. Employee and Manager salary\n",
        "class Employee:\n",
        "    def calculate_salary(self, hours, rate):\n",
        "        return hours * rate\n",
        "\n",
        "class Manager(Employee):\n",
        "    def calculate_salary(self, hours, rate, bonus):\n",
        "        return super().calculate_salary(hours, rate) + bonus"
      ],
      "metadata": {
        "id": "yFRDYNZdDAzc"
      },
      "execution_count": 15,
      "outputs": []
    },
    {
      "cell_type": "code",
      "source": [
        "# 15. Product total_price\n",
        "class Product:\n",
        "    def __init__(self, name, price, quantity):\n",
        "        self.name = name\n",
        "        self.price = price\n",
        "        self.quantity = quantity\n",
        "\n",
        "    def total_price(self):\n",
        "        return self.price * self.quantity"
      ],
      "metadata": {
        "id": "EA48BYq6DCqM"
      },
      "execution_count": 16,
      "outputs": []
    },
    {
      "cell_type": "code",
      "source": [
        "# 16. Animal abstract class with sound()\n",
        "from abc import ABC, abstractmethod\n",
        "\n",
        "class Animal(ABC):\n",
        "    @abstractmethod\n",
        "    def sound(self):\n",
        "        pass\n",
        "\n",
        "class Cow(Animal):\n",
        "    def sound(self):\n",
        "        return \"Moo\"\n",
        "\n",
        "class Sheep(Animal):\n",
        "    def sound(self):\n",
        "        return \"Baa\""
      ],
      "metadata": {
        "id": "6jps6aqKDEbc"
      },
      "execution_count": 17,
      "outputs": []
    },
    {
      "cell_type": "code",
      "source": [
        "# 17. Book with get_book_info()\n",
        "class Book:\n",
        "    def __init__(self, title, author, year_published):\n",
        "        self.title = title\n",
        "        self.author = author\n",
        "        self.year_published = year_published\n",
        "\n",
        "    def get_book_info(self):\n",
        "        return f\"{self.title} by {self.author}, published in {self.year_published}\""
      ],
      "metadata": {
        "id": "fdHZMhVoDHot"
      },
      "execution_count": 18,
      "outputs": []
    },
    {
      "cell_type": "code",
      "source": [
        "# 18. House and Mansion\n",
        "class House:\n",
        "    def __init__(self, address, price):\n",
        "        self.address = address\n",
        "        self.price = price\n",
        "\n",
        "class Mansion(House):\n",
        "    def __init__(self, address, price, number_of_rooms):\n",
        "        super().__init__(address, price)\n",
        "        self.number_of_rooms = number_of_rooms"
      ],
      "metadata": {
        "id": "KG2tT8DRDLlz"
      },
      "execution_count": 19,
      "outputs": []
    }
  ]
}