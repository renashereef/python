{
  "nbformat": 4,
  "nbformat_minor": 0,
  "metadata": {
    "colab": {
      "provenance": []
    },
    "kernelspec": {
      "name": "python3",
      "display_name": "Python 3"
    },
    "language_info": {
      "name": "python"
    }
  },
  "cells": [
    {
      "cell_type": "markdown",
      "source": [
        "Python Basics Assignment"
      ],
      "metadata": {
        "id": "o7LV-HY4peHq"
      }
    },
    {
      "cell_type": "markdown",
      "source": [
        "1. What is Python, and why is it popular?\n",
        "  - Python is a high-level, interpreted programming language known for its readability and simplicity. It is widely used due to its easy syntax and large set of libraries that make it suitable for applications in web development, data science, machine learning, etc\n",
        "\n",
        "2. What is an interpreter in Python?\n",
        "  - An interpreter is a program that executes Python code line by line. It translates high-level code into machine instructions without compiling it into a standalone executable file\n",
        "\n",
        "3. What are pre-defined keywords in Python?\n",
        "  - Keywords in Python are reserved words that have a specific meaning in the language. e.g. if, else, while, def, True, False, etc., and cannot be used as identifiers\n",
        "\n",
        "4. Can keywords be used as variable names?\n",
        "  - No, keywords cannot be used as variable names because they are reserved by the Python language for specific purposes\n",
        "\n",
        "5. What is mutability in Python?\n",
        "  - Mutability refers to whether an object's state can be changed after it is created. Mutable objects, like lists, can have their elements changed, while immutable objects, like tuples, cannot be modified once created\n",
        "\n",
        "6. Why are lists mutable, but tuples are immutable?\n",
        "  - Lists are mutable because they are designed to allow modifications that is adding, removing, or changing elements\n",
        "  - Tuples are immutable because they are designed to represent fixed collections of items that cannot be altered after creation\n",
        "\n",
        "7. What is the difference between “==” and “is” operators in Python?\n",
        "  - == checks if the values of two objects are equal\n",
        "  - is checks if two objects refer to the same memory location if they are the same object\n",
        "\n",
        "8. What are logical operators in Python?\n",
        "Logical operators in Python include:\n",
        "  - and: Returns True if both conditions are true\n",
        "  - or: Returns True if at least one condition is true\n",
        "  - not: Reverses the logical state of its operand\n",
        "\n",
        "9. What is type casting in Python?\n",
        "  - Type casting refers to converting one data type into another. e.g. converting an integer to a float or a string to an integer\n",
        "\n",
        "10. What is the difference between implicit and explicit type casting?\n",
        "  - Implicit type casting is automatically performed by Python when converting a smaller data type to a larger one. e.g., from int to float\n",
        "  - Explicit type casting is done manually by the programmer using functions like int(), float(), or str()\n",
        "\n",
        "11. What is the purpose of conditional statements in Python?\n",
        "- Conditional statements e.g. if, else, elif, allow the program to make decisions based on certain conditions, executing different blocks of code depending on the condition\n",
        "\n",
        "12. How does the elif statement work?\n",
        "- The elif statement checks multiple conditions in sequence. If the first if condition is false, it checks the elif condition, and so on. If all conditions fail, the else block will execute\n",
        "\n",
        "13. What is the difference between for and while loops?\n",
        "- A for loop is used to iterate over a sequence like a list or range\n",
        "- A while loop continues as long as the specified condition is true\n",
        "\n",
        "14. Describe a scenario where a while loop is more suitable than a for loop.\n",
        "- A while loop is more suitable when the number of iterations is not known beforehand and depends on a condition. e.g. reading input until the user enters a specific value\n"
      ],
      "metadata": {
        "id": "5P5ocymargjg"
      }
    },
    {
      "cell_type": "code",
      "execution_count": 1,
      "metadata": {
        "colab": {
          "base_uri": "https://localhost:8080/"
        },
        "id": "3o_qxqydpZZr",
        "outputId": "e64addda-0cbd-4d94-c4e6-72b5b3488e59"
      },
      "outputs": [
        {
          "output_type": "stream",
          "name": "stdout",
          "text": [
            "Hello, World!\n"
          ]
        }
      ],
      "source": [
        "# Question 1: Write a Python program to print \"Hello, World!\"\n",
        "print(\"Hello, World!\")"
      ]
    },
    {
      "cell_type": "code",
      "source": [
        "# Question 2: Write a Python program that displays your name and age.\n",
        "name = \"Rena\"\n",
        "age = 25\n",
        "print(f\"My name is {name} and I am {age} years old.\")"
      ],
      "metadata": {
        "colab": {
          "base_uri": "https://localhost:8080/"
        },
        "id": "lb6AgY1othQN",
        "outputId": "33d76f76-830d-441f-a49c-58fd2f1d3158"
      },
      "execution_count": 2,
      "outputs": [
        {
          "output_type": "stream",
          "name": "stdout",
          "text": [
            "My name is Rena and I am 25 years old.\n"
          ]
        }
      ]
    },
    {
      "cell_type": "code",
      "source": [
        "# Question 3: Write code to print all the pre-defined keywords in Python using the keyword library.\n",
        "import keyword\n",
        "print(keyword.kwlist)\n"
      ],
      "metadata": {
        "colab": {
          "base_uri": "https://localhost:8080/"
        },
        "id": "5Aoulq59tqs0",
        "outputId": "b2ae8834-eb10-46a0-a27c-6729be2460f8"
      },
      "execution_count": 3,
      "outputs": [
        {
          "output_type": "stream",
          "name": "stdout",
          "text": [
            "['False', 'None', 'True', 'and', 'as', 'assert', 'async', 'await', 'break', 'class', 'continue', 'def', 'del', 'elif', 'else', 'except', 'finally', 'for', 'from', 'global', 'if', 'import', 'in', 'is', 'lambda', 'nonlocal', 'not', 'or', 'pass', 'raise', 'return', 'try', 'while', 'with', 'yield']\n"
          ]
        }
      ]
    },
    {
      "cell_type": "code",
      "source": [
        "# Question 4: Write a program that checks if a given word is a Python keyword.\n",
        "import keyword\n",
        "word = input(\"Enter a word: \")\n",
        "if keyword.iskeyword(word):\n",
        "    print(f\"{word} is a Python keyword.\")\n",
        "else:\n",
        "    print(f\"{word} is not a Python keyword.\")\n"
      ],
      "metadata": {
        "colab": {
          "base_uri": "https://localhost:8080/"
        },
        "id": "NdwbDeaRtvLU",
        "outputId": "e3a81d1c-1513-45f8-efa2-6526162b3530"
      },
      "execution_count": 4,
      "outputs": [
        {
          "output_type": "stream",
          "name": "stdout",
          "text": [
            "Enter a word: False\n",
            "False is a Python keyword.\n"
          ]
        }
      ]
    },
    {
      "cell_type": "code",
      "source": [
        "# Question 5: Write a function to demonstrate the behavior of mutable and immutable arguments.\n",
        "def mutable_vs_immutable(lst, num):\n",
        "    lst.append(4)\n",
        "    num = 10\n",
        "    print(f\"List: {lst}, Number: {num}\")\n",
        "\n",
        "my_list = [1, 2, 3]\n",
        "my_num = 5\n",
        "mutable_vs_immutable(my_list, my_num)\n",
        "print(f\"Original List: {my_list}, Original Number: {my_num}\")\n",
        ""
      ],
      "metadata": {
        "colab": {
          "base_uri": "https://localhost:8080/"
        },
        "id": "cr-XGcZ9t3j_",
        "outputId": "8e0c4e75-1c9e-4ba5-890f-52554bbfcda8"
      },
      "execution_count": 5,
      "outputs": [
        {
          "output_type": "stream",
          "name": "stdout",
          "text": [
            "List: [1, 2, 3, 4], Number: 10\n",
            "Original List: [1, 2, 3, 4], Original Number: 5\n"
          ]
        }
      ]
    },
    {
      "cell_type": "code",
      "source": [
        "# Question 6: Write a program that performs basic arithmetic operations on two user-input numbers.\n",
        "num1 = float(input(\"Enter the first number: \"))\n",
        "num2 = float(input(\"Enter the second number: \"))\n",
        "print(f\"Sum: {num1 + num2}\")\n",
        "print(f\"Difference: {num1 - num2}\")\n",
        "print(f\"Product: {num1 * num2}\")\n",
        "print(f\"Division: {num1 / num2}\")"
      ],
      "metadata": {
        "colab": {
          "base_uri": "https://localhost:8080/"
        },
        "id": "XoLe8dRWuBd8",
        "outputId": "4af14de5-6381-4aef-e6e3-ccec38fe486c"
      },
      "execution_count": 6,
      "outputs": [
        {
          "output_type": "stream",
          "name": "stdout",
          "text": [
            "Enter the first number: 12\n",
            "Enter the second number: 17\n",
            "Sum: 29.0\n",
            "Difference: -5.0\n",
            "Product: 204.0\n",
            "Division: 0.7058823529411765\n"
          ]
        }
      ]
    },
    {
      "cell_type": "code",
      "source": [
        "# Question 7: Write a program to demonstrate the use of logical operators.\n",
        "x = True\n",
        "y = False\n",
        "print(x and y)\n",
        "print(x or y)\n",
        "print(not x)\n"
      ],
      "metadata": {
        "colab": {
          "base_uri": "https://localhost:8080/"
        },
        "id": "X7ZatqDnuKEs",
        "outputId": "fcf5a1c1-c70b-4b68-943d-7245b01d5172"
      },
      "execution_count": 7,
      "outputs": [
        {
          "output_type": "stream",
          "name": "stdout",
          "text": [
            "False\n",
            "True\n",
            "False\n"
          ]
        }
      ]
    },
    {
      "cell_type": "code",
      "source": [
        "# Question 8: Create a list and tuple in Python, and demonstrate how attempting to change an element works differently for each.\n",
        "my_list = [1, 2, 3]\n",
        "my_tuple = (1, 2, 3)\n",
        "\n",
        "my_list[0] = 10  # Mutable\n",
        "try:\n",
        "    my_tuple[0] = 10  # Immutable, will raise an error\n",
        "except TypeError as e:\n",
        "    print(f\"Error: {e}\")\n"
      ],
      "metadata": {
        "colab": {
          "base_uri": "https://localhost:8080/"
        },
        "id": "QNTvle-TuREo",
        "outputId": "bc3cd427-bb08-48d7-982b-48299db8ffe0"
      },
      "execution_count": 8,
      "outputs": [
        {
          "output_type": "stream",
          "name": "stdout",
          "text": [
            "Error: 'tuple' object does not support item assignment\n"
          ]
        }
      ]
    },
    {
      "cell_type": "code",
      "source": [
        "# Question 9: Write a Python program to convert user input from string to integer, float, and boolean types.\n",
        "user_input = input(\"Enter a value: \")\n",
        "print(int(user_input))\n",
        "print(float(user_input))\n",
        "print(bool(user_input))\n"
      ],
      "metadata": {
        "colab": {
          "base_uri": "https://localhost:8080/"
        },
        "id": "2mIZGehyuU0S",
        "outputId": "aade6ba5-45af-456a-a2e1-9bfaa5211e8a"
      },
      "execution_count": 10,
      "outputs": [
        {
          "output_type": "stream",
          "name": "stdout",
          "text": [
            "Enter a value: 25\n",
            "25\n",
            "25.0\n",
            "True\n"
          ]
        }
      ]
    },
    {
      "cell_type": "code",
      "source": [
        "# Question 10: Write code to demonstrate type casting with list elements.\n",
        "my_list = [\"1\", \"2\", \"3\"]\n",
        "my_list = [int(i) for i in my_list]\n",
        "print(my_list)\n"
      ],
      "metadata": {
        "colab": {
          "base_uri": "https://localhost:8080/"
        },
        "id": "qYAw1Y4NugjE",
        "outputId": "4007a49a-e18b-4513-b101-ee35c493c977"
      },
      "execution_count": 11,
      "outputs": [
        {
          "output_type": "stream",
          "name": "stdout",
          "text": [
            "[1, 2, 3]\n"
          ]
        }
      ]
    },
    {
      "cell_type": "code",
      "source": [
        "# Question 11: Write a program that checks if a number is positive, negative, or zero.\n",
        "num = float(input(\"Enter a number: \"))\n",
        "if num > 0:\n",
        "    print(\"Positive\")\n",
        "elif num < 0:\n",
        "    print(\"Negative\")\n",
        "else:\n",
        "    print(\"Zero\")\n"
      ],
      "metadata": {
        "colab": {
          "base_uri": "https://localhost:8080/"
        },
        "id": "5m455sRTulfK",
        "outputId": "97aabd08-f15f-47c6-9d30-0a98f539a21d"
      },
      "execution_count": 12,
      "outputs": [
        {
          "output_type": "stream",
          "name": "stdout",
          "text": [
            "Enter a number: 25\n",
            "Positive\n"
          ]
        }
      ]
    },
    {
      "cell_type": "code",
      "source": [
        "# Question 12: Write a for loop to print numbers from 1 to 10.\n",
        "for i in range(1, 11):\n",
        "    print(i)\n"
      ],
      "metadata": {
        "colab": {
          "base_uri": "https://localhost:8080/"
        },
        "id": "bZlgVz02urDr",
        "outputId": "6e4ba731-cc96-4e7e-f9db-5f4298dd5074"
      },
      "execution_count": 13,
      "outputs": [
        {
          "output_type": "stream",
          "name": "stdout",
          "text": [
            "1\n",
            "2\n",
            "3\n",
            "4\n",
            "5\n",
            "6\n",
            "7\n",
            "8\n",
            "9\n",
            "10\n"
          ]
        }
      ]
    },
    {
      "cell_type": "code",
      "source": [
        "# Question 13: Write a Python program to find the sum of all even numbers between 1 and 50.\n",
        "total = 0\n",
        "for i in range(2, 51, 2):\n",
        "    total += i\n",
        "print(f\"Sum of even numbers between 1 and 50: {total}\")\n"
      ],
      "metadata": {
        "colab": {
          "base_uri": "https://localhost:8080/"
        },
        "id": "TOjh0O2euvN6",
        "outputId": "2e89b20b-c0e1-4995-88f2-9cc43abf21c8"
      },
      "execution_count": 14,
      "outputs": [
        {
          "output_type": "stream",
          "name": "stdout",
          "text": [
            "Sum of even numbers between 1 and 50: 650\n"
          ]
        }
      ]
    },
    {
      "cell_type": "code",
      "source": [
        "# Question 14: Write a program to reverse a string using a while loop.\n",
        "string = input(\"Enter a string: \")\n",
        "reversed_string = \"\"\n",
        "i = len(string) - 1\n",
        "while i >= 0:\n",
        "    reversed_string += string[i]\n",
        "    i -= 1\n",
        "print(f\"Reversed string: {reversed_string}\")\n"
      ],
      "metadata": {
        "colab": {
          "base_uri": "https://localhost:8080/"
        },
        "id": "0O9KZJ71u3z8",
        "outputId": "f4a61a5c-8b2c-4fa8-9955-bf86be241a5b"
      },
      "execution_count": 15,
      "outputs": [
        {
          "output_type": "stream",
          "name": "stdout",
          "text": [
            "Enter a string: Rena\n",
            "Reversed string: aneR\n"
          ]
        }
      ]
    },
    {
      "cell_type": "code",
      "source": [
        "# Question 15: Write a Python program to calculate the factorial of a number provided by the user using a while loop.\n",
        "num = int(input(\"Enter a number: \"))\n",
        "factorial = 1\n",
        "while num > 1:\n",
        "    factorial *= num\n",
        "    num -= 1\n",
        "print(f\"Factorial: {factorial}\")\n"
      ],
      "metadata": {
        "colab": {
          "base_uri": "https://localhost:8080/"
        },
        "id": "KWDRJcDeu-qo",
        "outputId": "0919df8a-f303-4f0d-8683-aa1b43d8add4"
      },
      "execution_count": 16,
      "outputs": [
        {
          "output_type": "stream",
          "name": "stdout",
          "text": [
            "Enter a number: 5\n",
            "Factorial: 120\n"
          ]
        }
      ]
    }
  ]
}